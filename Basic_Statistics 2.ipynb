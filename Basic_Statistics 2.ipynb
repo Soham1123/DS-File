{
 "cells": [
  {
   "cell_type": "markdown",
   "id": "83cc81d0",
   "metadata": {},
   "source": [
    "Estimation And Confidence Intervals"
   ]
  },
  {
   "cell_type": "code",
   "execution_count": 46,
   "id": "c3fca299",
   "metadata": {},
   "outputs": [],
   "source": [
    "#A total of 15 print-heads were randomly selected and tested until failure. The durability of each print-head (in millions of characters) was recorded as follows:\n",
    "#1.13, 1.55, 1.43, 0.92, 1.25, 1.36, 1.32, 0.85, 1.07, 1.48, 1.20, 1.33, 1.18, 1.22, 1.29\n"
   ]
  },
  {
   "cell_type": "code",
   "execution_count": 47,
   "id": "d5d0c496",
   "metadata": {},
   "outputs": [],
   "source": [
    "import pandas as pd\n",
    "from scipy import stats\n",
    "import numpy as np"
   ]
  },
  {
   "cell_type": "code",
   "execution_count": 48,
   "id": "a776a5df",
   "metadata": {},
   "outputs": [],
   "source": [
    "data = pd.Series([1.13, 1.55, 1.43, 0.92, 1.25, 1.36, 1.32, 0.85, 1.07, 1.48, 1.20, 1.33, 1.18, 1.22, 1.29])"
   ]
  },
  {
   "cell_type": "code",
   "execution_count": 49,
   "id": "5b1f87f3",
   "metadata": {},
   "outputs": [
    {
     "data": {
      "text/plain": [
       "0     1.13\n",
       "1     1.55\n",
       "2     1.43\n",
       "3     0.92\n",
       "4     1.25\n",
       "5     1.36\n",
       "6     1.32\n",
       "7     0.85\n",
       "8     1.07\n",
       "9     1.48\n",
       "10    1.20\n",
       "11    1.33\n",
       "12    1.18\n",
       "13    1.22\n",
       "14    1.29\n",
       "dtype: float64"
      ]
     },
     "execution_count": 49,
     "metadata": {},
     "output_type": "execute_result"
    }
   ],
   "source": [
    "data"
   ]
  },
  {
   "cell_type": "markdown",
   "id": "f0bd5474",
   "metadata": {},
   "source": [
    "Assignment Tasks 1"
   ]
  },
  {
   "cell_type": "code",
   "execution_count": 50,
   "id": "954f58bf",
   "metadata": {},
   "outputs": [
    {
     "name": "stdout",
     "output_type": "stream",
     "text": [
      "Mean of data 1.2386666666666666\n"
     ]
    }
   ],
   "source": [
    "# a. Build 99% Confidence Interval Using Sample Standard Deviation \n",
    "\n",
    "print(\"Mean of data\",data.mean())"
   ]
  },
  {
   "cell_type": "code",
   "execution_count": 51,
   "id": "eed93d5b",
   "metadata": {},
   "outputs": [
    {
     "name": "stdout",
     "output_type": "stream",
     "text": [
      "Standard deviation of data 0.19316412956959936\n"
     ]
    }
   ],
   "source": [
    "print(\"Standard deviation of data\",data.std())"
   ]
  },
  {
   "cell_type": "code",
   "execution_count": 52,
   "id": "f8f2975f",
   "metadata": {},
   "outputs": [],
   "source": [
    "# now calculate the 99% condidence interval  using Normal distribution\n",
    "\n",
    "Ci = stats.norm.interval(0.99,1.2386666666666666,1.2386666666666666)"
   ]
  },
  {
   "cell_type": "code",
   "execution_count": 53,
   "id": "3c6e5c2b",
   "metadata": {},
   "outputs": [
    {
     "data": {
      "text/plain": [
       "(-1.9519272306625712, 4.429260563995904)"
      ]
     },
     "execution_count": 53,
     "metadata": {},
     "output_type": "execute_result"
    }
   ],
   "source": [
    "Ci"
   ]
  },
  {
   "cell_type": "code",
   "execution_count": 54,
   "id": "f873e44a",
   "metadata": {},
   "outputs": [
    {
     "name": "stdout",
     "output_type": "stream",
     "text": [
      "Mean at 99% confidence interval is [-1.9519  4.4293]\n"
     ]
    }
   ],
   "source": [
    "print(\"Mean at 99% confidence interval is\",np.round(Ci,4))"
   ]
  },
  {
   "cell_type": "code",
   "execution_count": 55,
   "id": "3d2d23d0",
   "metadata": {},
   "outputs": [
    {
     "data": {
      "text/plain": [
       "(0.6568030263558406, 1.8205303069774925)"
      ]
     },
     "execution_count": 55,
     "metadata": {},
     "output_type": "execute_result"
    }
   ],
   "source": [
    "#  now calculate the 99% condidence interval  using Z-distribution\n",
    "cit = stats.t.interval(0.99,13,\n",
    "                      loc = data.mean(),\n",
    "                      scale = data.std())\n",
    "cit"
   ]
  },
  {
   "cell_type": "code",
   "execution_count": 56,
   "id": "2bb2a223",
   "metadata": {},
   "outputs": [
    {
     "name": "stdout",
     "output_type": "stream",
     "text": [
      "the 99% condidence interval  using Z-distribution is  [0.6568 1.8205]\n"
     ]
    }
   ],
   "source": [
    "print(\"the 99% condidence interval  using Z-distribution is \",np.round(cit,4))"
   ]
  },
  {
   "cell_type": "markdown",
   "id": "9a277329",
   "metadata": {},
   "source": [
    "Assignments Task 2"
   ]
  },
  {
   "cell_type": "code",
   "execution_count": 57,
   "id": "998067cb",
   "metadata": {},
   "outputs": [
    {
     "ename": "NameError",
     "evalue": "name 'mean' is not defined",
     "output_type": "error",
     "traceback": [
      "\u001b[1;31m---------------------------------------------------------------------------\u001b[0m",
      "\u001b[1;31mNameError\u001b[0m                                 Traceback (most recent call last)",
      "Cell \u001b[1;32mIn[57], line 7\u001b[0m\n\u001b[0;32m      5\u001b[0m n \u001b[38;5;241m=\u001b[39m \u001b[38;5;28mlen\u001b[39m(data)\n\u001b[0;32m      6\u001b[0m sigma \u001b[38;5;241m=\u001b[39m \u001b[38;5;241m0.2\u001b[39m  \u001b[38;5;66;03m# known population standard deviation\u001b[39;00m\n\u001b[1;32m----> 7\u001b[0m ci \u001b[38;5;241m=\u001b[39m stats\u001b[38;5;241m.\u001b[39mnorm\u001b[38;5;241m.\u001b[39minterval(confidence\u001b[38;5;241m=\u001b[39m\u001b[38;5;241m0.99\u001b[39m, loc\u001b[38;5;241m=\u001b[39mmean, scale\u001b[38;5;241m=\u001b[39msigma\u001b[38;5;241m/\u001b[39mnp\u001b[38;5;241m.\u001b[39msqrt(n))\n",
      "\u001b[1;31mNameError\u001b[0m: name 'mean' is not defined"
     ]
    }
   ],
   "source": [
    "# b. Build 99% Confidence Interval Using Known Population Standard Deviation\n",
    "data\n",
    "m = data.mean()\n",
    "n = len(data)\n",
    "sigma = 0.2  # known population standard deviation\n",
    "ci = stats.norm.interval(confidence=0.99, loc=mean, scale=sigma/np.sqrt(n))"
   ]
  },
  {
   "cell_type": "code",
   "execution_count": null,
   "id": "48d5b768",
   "metadata": {},
   "outputs": [],
   "source": []
  }
 ],
 "metadata": {
  "kernelspec": {
   "display_name": "Python 3 (ipykernel)",
   "language": "python",
   "name": "python3"
  },
  "language_info": {
   "codemirror_mode": {
    "name": "ipython",
    "version": 3
   },
   "file_extension": ".py",
   "mimetype": "text/x-python",
   "name": "python",
   "nbconvert_exporter": "python",
   "pygments_lexer": "ipython3",
   "version": "3.11.5"
  }
 },
 "nbformat": 4,
 "nbformat_minor": 5
}
