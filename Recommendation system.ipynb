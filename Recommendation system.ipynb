{
 "cells": [
  {
   "cell_type": "code",
   "execution_count": 36,
   "id": "beb71979",
   "metadata": {},
   "outputs": [],
   "source": [
    "# import the libarary which are important\n",
    "import pandas as pd\n",
    "from sklearn.feature_extraction.text import CountVectorizer\n",
    "from sklearn.metrics.pairwise import cosine_similarity\n",
    "from sklearn.metrics import precision_score, recall_score, f1_score\n",
    "from sklearn.model_selection import train_test_split\n",
    "from sklearn.preprocessing import MultiLabelBinarizer, StandardScaler\n"
   ]
  },
  {
   "cell_type": "code",
   "execution_count": 37,
   "id": "661b7166",
   "metadata": {
    "scrolled": true
   },
   "outputs": [
    {
     "data": {
      "text/html": [
       "<div>\n",
       "<style scoped>\n",
       "    .dataframe tbody tr th:only-of-type {\n",
       "        vertical-align: middle;\n",
       "    }\n",
       "\n",
       "    .dataframe tbody tr th {\n",
       "        vertical-align: top;\n",
       "    }\n",
       "\n",
       "    .dataframe thead th {\n",
       "        text-align: right;\n",
       "    }\n",
       "</style>\n",
       "<table border=\"1\" class=\"dataframe\">\n",
       "  <thead>\n",
       "    <tr style=\"text-align: right;\">\n",
       "      <th></th>\n",
       "      <th>anime_id</th>\n",
       "      <th>name</th>\n",
       "      <th>genre</th>\n",
       "      <th>type</th>\n",
       "      <th>episodes</th>\n",
       "      <th>rating</th>\n",
       "      <th>members</th>\n",
       "    </tr>\n",
       "  </thead>\n",
       "  <tbody>\n",
       "    <tr>\n",
       "      <th>0</th>\n",
       "      <td>32281</td>\n",
       "      <td>Kimi no Na wa.</td>\n",
       "      <td>Drama, Romance, School, Supernatural</td>\n",
       "      <td>Movie</td>\n",
       "      <td>1</td>\n",
       "      <td>9.37</td>\n",
       "      <td>200630</td>\n",
       "    </tr>\n",
       "    <tr>\n",
       "      <th>1</th>\n",
       "      <td>5114</td>\n",
       "      <td>Fullmetal Alchemist: Brotherhood</td>\n",
       "      <td>Action, Adventure, Drama, Fantasy, Magic, Mili...</td>\n",
       "      <td>TV</td>\n",
       "      <td>64</td>\n",
       "      <td>9.26</td>\n",
       "      <td>793665</td>\n",
       "    </tr>\n",
       "    <tr>\n",
       "      <th>2</th>\n",
       "      <td>28977</td>\n",
       "      <td>Gintama°</td>\n",
       "      <td>Action, Comedy, Historical, Parody, Samurai, S...</td>\n",
       "      <td>TV</td>\n",
       "      <td>51</td>\n",
       "      <td>9.25</td>\n",
       "      <td>114262</td>\n",
       "    </tr>\n",
       "    <tr>\n",
       "      <th>3</th>\n",
       "      <td>9253</td>\n",
       "      <td>Steins;Gate</td>\n",
       "      <td>Sci-Fi, Thriller</td>\n",
       "      <td>TV</td>\n",
       "      <td>24</td>\n",
       "      <td>9.17</td>\n",
       "      <td>673572</td>\n",
       "    </tr>\n",
       "    <tr>\n",
       "      <th>4</th>\n",
       "      <td>9969</td>\n",
       "      <td>Gintama&amp;#039;</td>\n",
       "      <td>Action, Comedy, Historical, Parody, Samurai, S...</td>\n",
       "      <td>TV</td>\n",
       "      <td>51</td>\n",
       "      <td>9.16</td>\n",
       "      <td>151266</td>\n",
       "    </tr>\n",
       "    <tr>\n",
       "      <th>...</th>\n",
       "      <td>...</td>\n",
       "      <td>...</td>\n",
       "      <td>...</td>\n",
       "      <td>...</td>\n",
       "      <td>...</td>\n",
       "      <td>...</td>\n",
       "      <td>...</td>\n",
       "    </tr>\n",
       "    <tr>\n",
       "      <th>12289</th>\n",
       "      <td>9316</td>\n",
       "      <td>Toushindai My Lover: Minami tai Mecha-Minami</td>\n",
       "      <td>Hentai</td>\n",
       "      <td>OVA</td>\n",
       "      <td>1</td>\n",
       "      <td>4.15</td>\n",
       "      <td>211</td>\n",
       "    </tr>\n",
       "    <tr>\n",
       "      <th>12290</th>\n",
       "      <td>5543</td>\n",
       "      <td>Under World</td>\n",
       "      <td>Hentai</td>\n",
       "      <td>OVA</td>\n",
       "      <td>1</td>\n",
       "      <td>4.28</td>\n",
       "      <td>183</td>\n",
       "    </tr>\n",
       "    <tr>\n",
       "      <th>12291</th>\n",
       "      <td>5621</td>\n",
       "      <td>Violence Gekiga David no Hoshi</td>\n",
       "      <td>Hentai</td>\n",
       "      <td>OVA</td>\n",
       "      <td>4</td>\n",
       "      <td>4.88</td>\n",
       "      <td>219</td>\n",
       "    </tr>\n",
       "    <tr>\n",
       "      <th>12292</th>\n",
       "      <td>6133</td>\n",
       "      <td>Violence Gekiga Shin David no Hoshi: Inma Dens...</td>\n",
       "      <td>Hentai</td>\n",
       "      <td>OVA</td>\n",
       "      <td>1</td>\n",
       "      <td>4.98</td>\n",
       "      <td>175</td>\n",
       "    </tr>\n",
       "    <tr>\n",
       "      <th>12293</th>\n",
       "      <td>26081</td>\n",
       "      <td>Yasuji no Pornorama: Yacchimae!!</td>\n",
       "      <td>Hentai</td>\n",
       "      <td>Movie</td>\n",
       "      <td>1</td>\n",
       "      <td>5.46</td>\n",
       "      <td>142</td>\n",
       "    </tr>\n",
       "  </tbody>\n",
       "</table>\n",
       "<p>12294 rows × 7 columns</p>\n",
       "</div>"
      ],
      "text/plain": [
       "       anime_id                                               name  \\\n",
       "0         32281                                     Kimi no Na wa.   \n",
       "1          5114                   Fullmetal Alchemist: Brotherhood   \n",
       "2         28977                                           Gintama°   \n",
       "3          9253                                        Steins;Gate   \n",
       "4          9969                                      Gintama&#039;   \n",
       "...         ...                                                ...   \n",
       "12289      9316       Toushindai My Lover: Minami tai Mecha-Minami   \n",
       "12290      5543                                        Under World   \n",
       "12291      5621                     Violence Gekiga David no Hoshi   \n",
       "12292      6133  Violence Gekiga Shin David no Hoshi: Inma Dens...   \n",
       "12293     26081                   Yasuji no Pornorama: Yacchimae!!   \n",
       "\n",
       "                                                   genre   type episodes  \\\n",
       "0                   Drama, Romance, School, Supernatural  Movie        1   \n",
       "1      Action, Adventure, Drama, Fantasy, Magic, Mili...     TV       64   \n",
       "2      Action, Comedy, Historical, Parody, Samurai, S...     TV       51   \n",
       "3                                       Sci-Fi, Thriller     TV       24   \n",
       "4      Action, Comedy, Historical, Parody, Samurai, S...     TV       51   \n",
       "...                                                  ...    ...      ...   \n",
       "12289                                             Hentai    OVA        1   \n",
       "12290                                             Hentai    OVA        1   \n",
       "12291                                             Hentai    OVA        4   \n",
       "12292                                             Hentai    OVA        1   \n",
       "12293                                             Hentai  Movie        1   \n",
       "\n",
       "       rating  members  \n",
       "0        9.37   200630  \n",
       "1        9.26   793665  \n",
       "2        9.25   114262  \n",
       "3        9.17   673572  \n",
       "4        9.16   151266  \n",
       "...       ...      ...  \n",
       "12289    4.15      211  \n",
       "12290    4.28      183  \n",
       "12291    4.88      219  \n",
       "12292    4.98      175  \n",
       "12293    5.46      142  \n",
       "\n",
       "[12294 rows x 7 columns]"
      ]
     },
     "execution_count": 37,
     "metadata": {},
     "output_type": "execute_result"
    }
   ],
   "source": [
    "# load the data or import\n",
    "df = pd.read_csv(\"D:\\\\anime.csv\")\n",
    "df"
   ]
  },
  {
   "cell_type": "code",
   "execution_count": 38,
   "id": "69390fb3",
   "metadata": {},
   "outputs": [
    {
     "data": {
      "text/plain": [
       "anime_id      0\n",
       "name          0\n",
       "genre        62\n",
       "type         25\n",
       "episodes      0\n",
       "rating      230\n",
       "members       0\n",
       "dtype: int64"
      ]
     },
     "execution_count": 38,
     "metadata": {},
     "output_type": "execute_result"
    }
   ],
   "source": [
    "# calculate the missing values\n",
    "df.isnull().sum()"
   ]
  },
  {
   "cell_type": "code",
   "execution_count": 39,
   "id": "ef8c728e",
   "metadata": {},
   "outputs": [],
   "source": [
    "# fill the missing values\n",
    "df['genre'].fillna(df['genre'].mode()[0],inplace = True)\n",
    "df['type'].fillna(df['type'].mode()[0],inplace = True)"
   ]
  },
  {
   "cell_type": "code",
   "execution_count": 40,
   "id": "819d40db",
   "metadata": {},
   "outputs": [],
   "source": [
    "df['rating'].fillna(df['rating'].mean(),inplace = True)"
   ]
  },
  {
   "cell_type": "code",
   "execution_count": 41,
   "id": "ba9493c2",
   "metadata": {},
   "outputs": [
    {
     "data": {
      "text/plain": [
       "anime_id    0\n",
       "name        0\n",
       "genre       0\n",
       "type        0\n",
       "episodes    0\n",
       "rating      0\n",
       "members     0\n",
       "dtype: int64"
      ]
     },
     "execution_count": 41,
     "metadata": {},
     "output_type": "execute_result"
    }
   ],
   "source": [
    "df.isnull().sum() # know there is no missing values"
   ]
  },
  {
   "cell_type": "code",
   "execution_count": 42,
   "id": "e183e193",
   "metadata": {},
   "outputs": [
    {
     "name": "stderr",
     "output_type": "stream",
     "text": [
      "C:\\Users\\soham\\New folder\\anaconda\\Lib\\site-packages\\sklearn\\feature_extraction\\text.py:517: UserWarning: The parameter 'token_pattern' will not be used since 'tokenizer' is not None'\n",
      "  warnings.warn(\n"
     ]
    }
   ],
   "source": [
    "# we have to used countvectore which can convert the categorical data into vactor.\n",
    "# Convert genres into vectors\n",
    "cv = CountVectorizer(tokenizer=lambda x: x.split(\", \"))\n",
    "genre_matrix = cv.fit_transform(df['genre'])"
   ]
  },
  {
   "cell_type": "code",
   "execution_count": 44,
   "id": "0fdc9493",
   "metadata": {},
   "outputs": [],
   "source": [
    "# Optional: If you have numerical features like ratings, normalize them\n",
    "if 'rating' in df.columns:\n",
    "    scaler = StandardScaler()\n",
    "    ratings_scaled = scaler.fit_transform(df[['rating']])\n",
    "    features = pd.concat([pd.DataFrame(genre_matrix ), pd.DataFrame(ratings_scaled)], axis=1)\n",
    "else:\n",
    "    features = pd.DataFrame(genre_matrix )"
   ]
  },
  {
   "cell_type": "code",
   "execution_count": 45,
   "id": "f2c6a136",
   "metadata": {},
   "outputs": [],
   "source": [
    "# Step 4: Split dataset for evaluation (conceptual, since content-based needs target anime)\n",
    "# We'll simulate a train-test split for recommendation evaluation\n",
    "train_features, test_features, train_indices, test_indices = train_test_split(\n",
    "    features, df.index, test_size=0.2, random_state=42)\n"
   ]
  },
  {
   "cell_type": "code",
   "execution_count": 46,
   "id": "95b9abd8",
   "metadata": {},
   "outputs": [],
   "source": [
    "# know we have to compute the similarity of genre\n",
    "cosine_sim = cosine_similarity(genre_matrix)"
   ]
  },
  {
   "cell_type": "code",
   "execution_count": 47,
   "id": "625df227",
   "metadata": {},
   "outputs": [],
   "source": [
    "# Step 6: Recommendation function\n",
    "def recommend_anime(target_index, top_n=5, threshold=0.1):\n",
    "    # Get similarity scores for the target anime\n",
    "    sim_scores = list(enumerate(cosine_sim[target_index]))\n",
    "    # Filter out scores below the threshold\n",
    "    sim_scores = [(i, score) for i, score in sim_scores if score >= threshold and i != target_index]\n",
    "    # Sort by similarity\n",
    "    sim_scores = sorted(sim_scores, key=lambda x: x[1], reverse=True)\n",
    "    # Get top N recommendations\n",
    "    recommended_indices = [i for i, score in sim_scores[:top_n]]\n",
    "    return df.loc[recommended_indices, 'name'].values"
   ]
  },
  {
   "cell_type": "code",
   "execution_count": 48,
   "id": "860c4896",
   "metadata": {},
   "outputs": [
    {
     "name": "stdout",
     "output_type": "stream",
     "text": [
      "Recommendations for: Kimi no Na wa.\n",
      "['Wind: A Breath of Heart OVA' 'Wind: A Breath of Heart (TV)'\n",
      " 'Aura: Maryuuin Kouga Saigo no Tatakai' 'Kokoro ga Sakebitagatterunda.'\n",
      " 'Clannad: After Story - Mou Hitotsu no Sekai, Kyou-hen']\n"
     ]
    }
   ],
   "source": [
    "# Example usage\n",
    "target_anime_index = 0  # Index of anime to get recommendations for\n",
    "print(\"Recommendations for:\", df.loc[target_anime_index, 'name'])\n",
    "print(recommend_anime(target_anime_index, top_n=5, threshold=0.2))\n"
   ]
  },
  {
   "cell_type": "code",
   "execution_count": 51,
   "id": "cb0fd71e",
   "metadata": {
    "scrolled": true
   },
   "outputs": [],
   "source": [
    "\n",
    "# Step 7: Evaluation (conceptual)\n",
    "# For real evaluation, you need user interaction data (ratings)\n",
    "# Here, we simulate by assuming top-1 recommendation should match the test set index\n",
    "# This is just illustrative, not a proper real evaluation\n",
    "recommended_anime = recommend_anime(0, top_n=5, threshold=0.2)\n",
    "y_true = [1 if i in test_indices[:5].tolist() else 0 for i in range(len(df))]\n",
    "y_pred = [1 if df.loc[i, 'name'] in recommended_anime else 0 for i in range(len(df))]\n",
    "\n"
   ]
  },
  {
   "cell_type": "code",
   "execution_count": 52,
   "id": "c3caf0d2",
   "metadata": {},
   "outputs": [],
   "source": [
    "precision = precision_score(y_true, y_pred, zero_division=0)\n",
    "recall = recall_score(y_true, y_pred, zero_division=0)\n",
    "f1 = f1_score(y_true, y_pred, zero_division=0)\n"
   ]
  },
  {
   "cell_type": "code",
   "execution_count": 54,
   "id": "41a83789",
   "metadata": {},
   "outputs": [],
   "source": [
    "# interview question\n",
    "\n",
    "#1. Can you explain the difference between user-based and item-based collaborative filtering?\n",
    "#User-based and item-based collaborative filtering are two approaches to making recommendations based on user interactions,\n",
    "#such as ratings or purchases. User-based collaborative filtering focuses on finding users who are similar to a target user \n",
    "#and recommends items that those similar users have liked. For example, if two users have rated many of the same movies\n",
    "#similarly, the system assumes they have similar tastes and suggests movies liked by one user to the other.\n",
    "\n",
    "\n",
    "\n",
    "#2. What is collaborative filtering, and how does it work? in paragraph\n",
    "#Collaborative filtering is a popular technique used in recommendation systems to suggest items to users based\n",
    "#on the preferences or behavior of other users. It works on the principle that users who have agreed in the past will \n",
    "#likely agree in the future, or that users with similar tastes will enjoy similar items. There are two main types: \n",
    "#user-based and item-based."
   ]
  },
  {
   "cell_type": "code",
   "execution_count": null,
   "id": "22926662",
   "metadata": {},
   "outputs": [],
   "source": []
  }
 ],
 "metadata": {
  "kernelspec": {
   "display_name": "Python 3 (ipykernel)",
   "language": "python",
   "name": "python3"
  },
  "language_info": {
   "codemirror_mode": {
    "name": "ipython",
    "version": 3
   },
   "file_extension": ".py",
   "mimetype": "text/x-python",
   "name": "python",
   "nbconvert_exporter": "python",
   "pygments_lexer": "ipython3",
   "version": "3.11.5"
  }
 },
 "nbformat": 4,
 "nbformat_minor": 5
}
