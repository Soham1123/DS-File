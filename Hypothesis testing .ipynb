{
 "cells": [
  {
   "cell_type": "code",
   "execution_count": 1,
   "id": "f3436115",
   "metadata": {},
   "outputs": [],
   "source": [
    "# import the libaray which are important to solve the prb\n",
    "import math\n",
    "from scipy.stats import norm\n"
   ]
  },
  {
   "cell_type": "code",
   "execution_count": 2,
   "id": "8db69087",
   "metadata": {},
   "outputs": [
    {
     "name": "stdout",
     "output_type": "stream",
     "text": [
      "Null Hypothesis (H0): Weekly operating cost model is correct.\n",
      "Alternative Hypothesis (H1): Weekly operating costs are higher than the model suggests.\n"
     ]
    }
   ],
   "source": [
    "# Step 1: State the hypotheses\n",
    "print(\"Null Hypothesis (H0): Weekly operating cost model is correct.\")\n",
    "print(\"Alternative Hypothesis (H1): Weekly operating costs are higher than the model suggests.\")\n"
   ]
  },
  {
   "cell_type": "code",
   "execution_count": 3,
   "id": "e3d895f9",
   "metadata": {},
   "outputs": [],
   "source": [
    "# Step 2: Calculate the Test Statistic\n",
    "sample_mean = 3050          # x̄\n",
    "n = 25                      # sample size\n",
    "X_mean = 600                # average units produced\n",
    "sigma_X = 25                # std dev of units\n",
    "sigma = 5 * sigma_X         # std dev of cost\n",
    "theoretical_mean = 1000 + 5 * X_mean   # μ\n",
    "\n",
    "# this are the given data "
   ]
  },
  {
   "cell_type": "code",
   "execution_count": 4,
   "id": "1662aa8e",
   "metadata": {},
   "outputs": [],
   "source": [
    "# calculating the test_stats\n",
    "# using formula t-test formula \n",
    "test_stat = (sample_mean - theoretical_mean) / (sigma / math.sqrt(n))"
   ]
  },
  {
   "cell_type": "code",
   "execution_count": 5,
   "id": "0f813518",
   "metadata": {},
   "outputs": [
    {
     "data": {
      "text/plain": [
       "-38.0"
      ]
     },
     "execution_count": 5,
     "metadata": {},
     "output_type": "execute_result"
    }
   ],
   "source": [
    "test_stat"
   ]
  },
  {
   "cell_type": "code",
   "execution_count": 6,
   "id": "88a7a6f1",
   "metadata": {},
   "outputs": [],
   "source": [
    "# know we have to calculate the critical value for compare with test_stats\n",
    "alpha = 0.05 # the alpha was given \n",
    "critical_value = norm.ppf(1 - alpha)  # one-tailed test it is the right side graph."
   ]
  },
  {
   "cell_type": "code",
   "execution_count": 7,
   "id": "3df79564",
   "metadata": {},
   "outputs": [
    {
     "data": {
      "text/plain": [
       "1.6448536269514722"
      ]
     },
     "execution_count": 7,
     "metadata": {},
     "output_type": "execute_result"
    }
   ],
   "source": [
    "critical_value"
   ]
  },
  {
   "cell_type": "code",
   "execution_count": 10,
   "id": "84815e08",
   "metadata": {},
   "outputs": [
    {
     "name": "stdout",
     "output_type": "stream",
     "text": [
      "Fail to Reject H0\n"
     ]
    }
   ],
   "source": [
    "# Step 4: Make a Decision\n",
    "if test_stat > critical_value:\n",
    "    print(\"Reject H0\")\n",
    "else:\n",
    "    print(\"Fail to Reject H0\")"
   ]
  },
  {
   "cell_type": "code",
   "execution_count": null,
   "id": "22bedc0b",
   "metadata": {},
   "outputs": [],
   "source": [
    "'''conclusion of the assigments \n",
    "   There is not enough evidence to support the claim that weekly operating costs are higher than the model suggests.'''"
   ]
  }
 ],
 "metadata": {
  "kernelspec": {
   "display_name": "Python 3 (ipykernel)",
   "language": "python",
   "name": "python3"
  },
  "language_info": {
   "codemirror_mode": {
    "name": "ipython",
    "version": 3
   },
   "file_extension": ".py",
   "mimetype": "text/x-python",
   "name": "python",
   "nbconvert_exporter": "python",
   "pygments_lexer": "ipython3",
   "version": "3.11.5"
  }
 },
 "nbformat": 4,
 "nbformat_minor": 5
}
