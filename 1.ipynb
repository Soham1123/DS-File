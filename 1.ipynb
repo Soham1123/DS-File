{
 "cells": [
  {
   "cell_type": "markdown",
   "id": "e4d3a2f5",
   "metadata": {},
   "source": [
    "Basic comments and Syntax"
   ]
  },
  {
   "cell_type": "code",
   "execution_count": null,
   "id": "1b50aee9",
   "metadata": {},
   "outputs": [
    {
     "name": "stdout",
     "output_type": "stream",
     "text": [
      "hello\n"
     ]
    }
   ],
   "source": [
    "print(\"hello\")#this is the print function and it is a comment"
   ]
  },
  {
   "cell_type": "code",
   "execution_count": null,
   "id": "d9b5ade1",
   "metadata": {},
   "outputs": [
    {
     "name": "stdout",
     "output_type": "stream",
     "text": [
      "soham\n"
     ]
    }
   ],
   "source": [
    "#input funiction\n",
    "name = input(\"enter your name\")# this is the user input function\n",
    "print(name)#shift+enter to run the code in jupyter notebook\n"
   ]
  },
  {
   "cell_type": "code",
   "execution_count": 4,
   "id": "677bc309",
   "metadata": {},
   "outputs": [
    {
     "name": "stdout",
     "output_type": "stream",
     "text": [
      "soham choudhari\n"
     ]
    }
   ],
   "source": [
    "name = (\"soham choudhari\")  # the will given\n",
    "print(name)"
   ]
  },
  {
   "cell_type": "markdown",
   "id": "195d28ab",
   "metadata": {},
   "source": [
    "Variables and Data Types"
   ]
  },
  {
   "cell_type": "markdown",
   "id": "4cb3155e",
   "metadata": {},
   "source": [
    "# Variables names refer to a value store in a memory.\n",
    "# Data Types are Interger,Float,String."
   ]
  },
  {
   "cell_type": "code",
   "execution_count": 17,
   "id": "77eb1234",
   "metadata": {},
   "outputs": [
    {
     "name": "stdout",
     "output_type": "stream",
     "text": [
      "<class 'str'> soham\n"
     ]
    }
   ],
   "source": [
    "s = \"soham\"\n",
    "print(type(s),s)"
   ]
  },
  {
   "cell_type": "code",
   "execution_count": 13,
   "id": "9c6a45c8",
   "metadata": {},
   "outputs": [
    {
     "name": "stdout",
     "output_type": "stream",
     "text": [
      "<class 'int'> 34\n"
     ]
    }
   ],
   "source": [
    "s = 34\n",
    "print(type(s),s)"
   ]
  },
  {
   "cell_type": "code",
   "execution_count": 14,
   "id": "5bed9c31",
   "metadata": {},
   "outputs": [
    {
     "name": "stdout",
     "output_type": "stream",
     "text": [
      "<class 'float'> 1.2\n"
     ]
    }
   ],
   "source": [
    "s = 1.2\n",
    "print(type(s),s)"
   ]
  },
  {
   "cell_type": "code",
   "execution_count": 16,
   "id": "a82ff688",
   "metadata": {},
   "outputs": [
    {
     "name": "stdout",
     "output_type": "stream",
     "text": [
      "<class 'complex'>\n"
     ]
    }
   ],
   "source": [
    "s = 3 + 4j\n",
    "print(type(s))\n"
   ]
  },
  {
   "cell_type": "code",
   "execution_count": null,
   "id": "cc9c0aba",
   "metadata": {},
   "outputs": [
    {
     "name": "stdout",
     "output_type": "stream",
     "text": [
      "<class 'list'> ['apple', 'banana', 'cherry']\n",
      "apple\n",
      "banana\n",
      "cherry\n"
     ]
    }
   ],
   "source": [
    "## Sequence Types\n",
    "\n",
    "# list\n",
    "# A list is a collection which is ordered and changeable. Allows duplicate members.\n",
    "fruits = [\"apple\", \"banana\", \"cherry\"]\n",
    "print(type(fruits), fruits)\n",
    "\n",
    "# we will use the loop to print the list\n",
    "for fruits in fruits:\n",
    "    print(fruits)"
   ]
  },
  {
   "cell_type": "code",
   "execution_count": 3,
   "id": "8398d68d",
   "metadata": {},
   "outputs": [
    {
     "name": "stdout",
     "output_type": "stream",
     "text": [
      "<class 'tuple'> ('red', 'green', 'blue')\n"
     ]
    }
   ],
   "source": [
    "# Tuple\n",
    "# A tuple is a collection which is ordered and unchangeable. Allows duplicate members.\n",
    "colors = (\"red\", \"green\", \"blue\")\n",
    "print(type(colors), colors) "
   ]
  },
  {
   "cell_type": "code",
   "execution_count": 4,
   "id": "25d96f53",
   "metadata": {},
   "outputs": [
    {
     "name": "stdout",
     "output_type": "stream",
     "text": [
      "<class 'set'> {1, 2, 3, 4, 5, 6, 7}\n"
     ]
    }
   ],
   "source": [
    "# Set \n",
    "# A set is a collection which is unordered, unchangeable, and unindexed. No duplicate members.\n",
    "numbers = {1, 2, 3, 3, 4,5,6,7,7}\n",
    "print(type(numbers), numbers)"
   ]
  },
  {
   "cell_type": "code",
   "execution_count": 5,
   "id": "b6e16f97",
   "metadata": {},
   "outputs": [
    {
     "name": "stdout",
     "output_type": "stream",
     "text": [
      "<class 'dict'> {'names': 'soham', 'age': 20, 'graduation': 'bachelor of engineering'}\n"
     ]
    }
   ],
   "source": [
    "# Dictionary\n",
    "# A dictionary is a collection which is ordered and key valus pairs*, changeable and does not allow duplicates.\n",
    "person = {\n",
    "    \"names\": \"soham\",\n",
    "    \"age\": 20,\n",
    "    \"graduation\": \"bachelor of engineering\",\n",
    "    \n",
    "}\n",
    "print(type(person), person)"
   ]
  },
  {
   "cell_type": "code",
   "execution_count": 11,
   "id": "4cdd34d2",
   "metadata": {},
   "outputs": [
    {
     "name": "stdout",
     "output_type": "stream",
     "text": [
      "<class 'frozenset'> frozenset({1, 2, 3, 4, 5})\n",
      "1\n",
      "2\n",
      "3\n"
     ]
    }
   ],
   "source": [
    "## frozenset\n",
    "# A frozenset is a collection which is unordered, unchangeable, and unindexed. No duplicate members.\n",
    "s = frozenset({1, 2, 3, 4, 5})\n",
    "print(type(s), s)\n",
    "for s in s:\n",
    "    if s == 4:\n",
    "        break\n",
    "    print(s)"
   ]
  },
  {
   "cell_type": "code",
   "execution_count": 13,
   "id": "49c6068f",
   "metadata": {},
   "outputs": [],
   "source": [
    "## control flow  this are the basic control flow statements in python\n",
    "# if statement\n",
    "# else statement\n",
    "# elif statement\n",
    "# for loop\n",
    "# while loop\n",
    "# nested loop\n"
   ]
  },
  {
   "cell_type": "code",
   "execution_count": 19,
   "id": "b17dd64c",
   "metadata": {},
   "outputs": [
    {
     "name": "stdout",
     "output_type": "stream",
     "text": [
      "odd\n"
     ]
    }
   ],
   "source": [
    "# check even or odd\n",
    "num = int(input())\n",
    "if num % 2==0:\n",
    "    print(\"even\")\n",
    "else:\n",
    "    print(\"odd\")"
   ]
  },
  {
   "cell_type": "code",
   "execution_count": null,
   "id": "3dd5dc80",
   "metadata": {},
   "outputs": [],
   "source": [
    "# grade system\n",
    "score = int(input())\n",
    "while score < 50 or score >100:\n",
    "    if score >= 90:\n",
    "        print(\"A\")\n",
    "    elif score >= 80:\n",
    "        print(\"B\")\n",
    "    elif score >= 70:\n",
    "        print(\"C\")   \n",
    "else:\n",
    "    print(\"Fail\") "
   ]
  },
  {
   "cell_type": "code",
   "execution_count": null,
   "id": "d6cec126",
   "metadata": {},
   "outputs": [],
   "source": [
    "#"
   ]
  }
 ],
 "metadata": {
  "kernelspec": {
   "display_name": "base",
   "language": "python",
   "name": "python3"
  },
  "language_info": {
   "codemirror_mode": {
    "name": "ipython",
    "version": 3
   },
   "file_extension": ".py",
   "mimetype": "text/x-python",
   "name": "python",
   "nbconvert_exporter": "python",
   "pygments_lexer": "ipython3",
   "version": "3.11.5"
  }
 },
 "nbformat": 4,
 "nbformat_minor": 5
}
